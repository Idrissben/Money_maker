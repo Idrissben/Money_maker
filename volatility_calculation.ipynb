{
 "cells": [
  {
   "cell_type": "code",
   "execution_count": 1,
   "metadata": {},
   "outputs": [],
   "source": [
    "import sys\n",
    "sys.path.append('C:/Users/Joseph Moussa/Desktop/X/4A/Quinten Data Project/Money_maker')\n",
    "from src import utils\n",
    "import pandas as pd"
   ]
  },
  {
   "cell_type": "code",
   "execution_count": 2,
   "metadata": {},
   "outputs": [],
   "source": [
    "# Read CSV and keep EUR stocks\n",
    "csv_path = \"C:/Users/Joseph Moussa/Desktop/X/4A/Quinten Data Project/Money_maker/data/final_dataset.csv\"\n",
    "dataset_preprocessed = pd.read_csv(csv_path)\n",
    "stocks_prices = dataset_preprocessed[dataset_preprocessed[\"reportedCurrency\"] == \"EUR\"][['symbol', 'price']]\n",
    "df = stocks_prices.copy()"
   ]
  },
  {
   "cell_type": "code",
   "execution_count": 3,
   "metadata": {},
   "outputs": [],
   "source": [
    "# Calculate stock volatility\n",
    "result = utils.calculate_volatility(df)"
   ]
  },
  {
   "cell_type": "code",
   "execution_count": 4,
   "metadata": {},
   "outputs": [
    {
     "data": {
      "text/html": [
       "<div>\n",
       "<style scoped>\n",
       "    .dataframe tbody tr th:only-of-type {\n",
       "        vertical-align: middle;\n",
       "    }\n",
       "\n",
       "    .dataframe tbody tr th {\n",
       "        vertical-align: top;\n",
       "    }\n",
       "\n",
       "    .dataframe thead th {\n",
       "        text-align: right;\n",
       "    }\n",
       "</style>\n",
       "<table border=\"1\" class=\"dataframe\">\n",
       "  <thead>\n",
       "    <tr style=\"text-align: right;\">\n",
       "      <th></th>\n",
       "      <th>Symbol</th>\n",
       "      <th>Volatility</th>\n",
       "    </tr>\n",
       "  </thead>\n",
       "  <tbody>\n",
       "    <tr>\n",
       "      <th>0</th>\n",
       "      <td>LIG.LS</td>\n",
       "      <td>0.012154</td>\n",
       "    </tr>\n",
       "    <tr>\n",
       "      <th>1</th>\n",
       "      <td>GLINT.LS</td>\n",
       "      <td>0.063857</td>\n",
       "    </tr>\n",
       "    <tr>\n",
       "      <th>2</th>\n",
       "      <td>INA.LS</td>\n",
       "      <td>0.067285</td>\n",
       "    </tr>\n",
       "    <tr>\n",
       "      <th>3</th>\n",
       "      <td>DPT.PA</td>\n",
       "      <td>0.082554</td>\n",
       "    </tr>\n",
       "    <tr>\n",
       "      <th>4</th>\n",
       "      <td>CFN.LS</td>\n",
       "      <td>0.110952</td>\n",
       "    </tr>\n",
       "    <tr>\n",
       "      <th>...</th>\n",
       "      <td>...</td>\n",
       "      <td>...</td>\n",
       "    </tr>\n",
       "    <tr>\n",
       "      <th>214</th>\n",
       "      <td>ASM.AS</td>\n",
       "      <td>81.513381</td>\n",
       "    </tr>\n",
       "    <tr>\n",
       "      <th>215</th>\n",
       "      <td>LOCAL.PA</td>\n",
       "      <td>97.804069</td>\n",
       "    </tr>\n",
       "    <tr>\n",
       "      <th>216</th>\n",
       "      <td>DIM.PA</td>\n",
       "      <td>141.729730</td>\n",
       "    </tr>\n",
       "    <tr>\n",
       "      <th>217</th>\n",
       "      <td>ASML.AS</td>\n",
       "      <td>143.035113</td>\n",
       "    </tr>\n",
       "    <tr>\n",
       "      <th>218</th>\n",
       "      <td>VK.PA</td>\n",
       "      <td>351.192166</td>\n",
       "    </tr>\n",
       "  </tbody>\n",
       "</table>\n",
       "<p>219 rows × 2 columns</p>\n",
       "</div>"
      ],
      "text/plain": [
       "       Symbol  Volatility\n",
       "0      LIG.LS    0.012154\n",
       "1    GLINT.LS    0.063857\n",
       "2      INA.LS    0.067285\n",
       "3      DPT.PA    0.082554\n",
       "4      CFN.LS    0.110952\n",
       "..        ...         ...\n",
       "214    ASM.AS   81.513381\n",
       "215  LOCAL.PA   97.804069\n",
       "216    DIM.PA  141.729730\n",
       "217   ASML.AS  143.035113\n",
       "218     VK.PA  351.192166\n",
       "\n",
       "[219 rows x 2 columns]"
      ]
     },
     "execution_count": 4,
     "metadata": {},
     "output_type": "execute_result"
    }
   ],
   "source": [
    "result"
   ]
  }
 ],
 "metadata": {
  "kernelspec": {
   "display_name": "Python 3",
   "language": "python",
   "name": "python3"
  },
  "language_info": {
   "codemirror_mode": {
    "name": "ipython",
    "version": 3
   },
   "file_extension": ".py",
   "mimetype": "text/x-python",
   "name": "python",
   "nbconvert_exporter": "python",
   "pygments_lexer": "ipython3",
   "version": "3.9.6"
  }
 },
 "nbformat": 4,
 "nbformat_minor": 2
}
